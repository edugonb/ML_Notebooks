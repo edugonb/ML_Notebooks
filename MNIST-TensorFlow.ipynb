{
 "cells": [
  {
   "cell_type": "markdown",
   "id": "1fe23665-6429-44df-95cf-b2ef230e7386",
   "metadata": {},
   "source": [
    "# MNIST Handwritten Digit Classification\n",
    "\n",
    "## Abstract\n",
    "\n",
    "In this notebook we play a bit with the MNIST dataset. The goal is to learn a simple example of classification of handwritten digits using various techniques and serve as an introduction to Tensorflow. We compare the accuracy and the required training time for Neural Networks of different number of Hidden Units. We also compare a few different optimizers.\n",
    "\n",
    "\n",
    "---\n",
    "\n",
    "## Table of Contents\n",
    "\n",
    "1. **Install Modules**\n",
    "2. **Dataloader, Transform**\n",
    "4. **Modeling the NN**\n",
    "5. **Loss and Optimizer**\n",
    "6. **Training**\n",
    "7. **Model Evaluation**\n",
    "8. **Testing the accuracy**"
   ]
  },
  {
   "cell_type": "markdown",
   "id": "cf939221-0f20-45e0-809b-c65e11fbdb29",
   "metadata": {},
   "source": [
    "## Install Libraries"
   ]
  },
  {
   "cell_type": "code",
   "execution_count": 1,
   "id": "5535b666-42e8-4e49-af33-a2c72d4acae9",
   "metadata": {},
   "outputs": [],
   "source": [
    "import tensorflow as tf\n",
    "import numpy as np\n",
    "from tensorflow.keras.layers import Conv2D, Input, Dense, MaxPool2D, BatchNormalization, GlobalAvgPool2D\n",
    "import matplotlib.pyplot as plt\n",
    "#Other useful libraries\n",
    "import os"
   ]
  },
  {
   "cell_type": "markdown",
   "id": "2a42952c-b9bb-4304-9d4f-399c4276c128",
   "metadata": {},
   "source": [
    "## Load the Data"
   ]
  },
  {
   "cell_type": "code",
   "execution_count": 2,
   "id": "efae027c",
   "metadata": {},
   "outputs": [],
   "source": [
    "# Load the MNIST dataset #x_train_0.shape\n",
    "(x_train, y_train), (x_test, y_test) = tf.keras.datasets.mnist.load_data()"
   ]
  },
  {
   "cell_type": "code",
   "execution_count": 3,
   "id": "bd85a0cf-bcae-436d-a360-f2f05dd5d74e",
   "metadata": {},
   "outputs": [
    {
     "data": {
      "image/png": "[encoded data removed]",
      "text/plain": [
       "<Figure size 640x480 with 2 Axes>"
      ]
     },
     "metadata": {},
     "output_type": "display_data"
    }
   ],
   "source": [
    "image_test = x_train[1]\n",
    "plt.imshow(x_train[1], cmap='gray')\n",
    "plt.colorbar()  # Optionally add a colorbar\n",
    "plt.title('28x28 Image')\n",
    "plt.axis('off')  # Optionally turn off axis\n",
    "plt.show()\n"
   ]
  },
  {
   "cell_type": "code",
   "execution_count": 3,
   "id": "7ff3aa57-6405-48a0-a646-fe1cfd3e0b72",
   "metadata": {},
   "outputs": [],
   "source": [
    "# Normalize the data We can verify by \n",
    "x_train = x_train.astype('float32') / 255.0\n",
    "x_test = x_test.astype('float32') / 255.0\n",
    "\n",
    "\n",
    "# Flatten the input data\n",
    "x_train = x_train.reshape(-1, 28 * 28)  # Reshape to (num_samples, 784)\n",
    "x_test = x_test.reshape(-1, 28 * 28)\n",
    "\n",
    "# Convert labels to one-hot encoding using vectors of dimension D=10\n",
    "y_train = tf.one_hot(y_train, depth=10)\n",
    "y_test = tf.one_hot(y_test, depth=10)\n",
    "\n"
   ]
  },
  {
   "cell_type": "markdown",
   "id": "f4b1b11e-48ef-4b28-b1f5-e6e2e0665f71",
   "metadata": {},
   "source": [
    "## Modeling the NN"
   ]
  },
  {
   "cell_type": "code",
   "execution_count": 4,
   "id": "7ab346c5-4106-4b95-94f6-59336b5b2116",
   "metadata": {},
   "outputs": [],
   "source": [
    "class SingleLayerFFN(tf.Module):\n",
    "    def __init__(self, input_dim, output_dim):\n",
    "        # Initialize weights and biases\n",
    "        self.w = tf.Variable(tf.random.normal([input_dim, output_dim],stddev=0.1), name=\"w\")\n",
    "        self.b = tf.Variable(tf.random.normal([output_dim],stddev=0.1),  name=\"b\")\n",
    "\n",
    "    def __call__(self, x):\n",
    "        # Forward pass: Linear transformation followed by softmax\n",
    "        logits = tf.matmul(x, self.w) + self.b\n",
    "        return tf.nn.softmax(logits)\n",
    "model1 = SingleLayerFFN(28*28, 10)"
   ]
  },
  {
   "cell_type": "code",
   "execution_count": 5,
   "id": "1c440240-fb24-44ae-95d0-f804f16ca6ad",
   "metadata": {},
   "outputs": [],
   "source": [
    "class TwoLayerFFN(tf.Module):\n",
    "    def __init__(self, input_dim, hidden_dim, output_dim):\n",
    "        # Initialize weights and biases for the hidden layer\n",
    "        # We use tf.Variable for those parameters to be optimized\n",
    "        self.w1 = tf.Variable(tf.random.normal([input_dim, hidden_dim],stddev=0.1), name=\"w1\")\n",
    "        self.b1 = tf.Variable(tf.random.normal([hidden_dim],stddev=0.1),  name=\"b1\")\n",
    "        \n",
    "        # Initialize weights and biases for the output layer\n",
    "        self.w2 = tf.Variable(tf.random.normal([hidden_dim, output_dim],stddev=0.1),  name=\"w2\")\n",
    "        self.b2 = tf.Variable(tf.random.normal([output_dim],stddev=0.1),  name=\"b2\")\n",
    "\n",
    "    def __call__(self, x):\n",
    "        # Forward pass through the hidden layer\n",
    "        hidden_output = tf.nn.relu(tf.matmul(x, self.w1) + self.b1)\n",
    "        \n",
    "        # Forward pass through the output layer\n",
    "        logits = tf.matmul(hidden_output, self.w2) + self.b2\n",
    "        return tf.nn.softmax(logits)\n",
    "\n",
    "model2 = TwoLayerFFN(28*28, 128, 10)\n",
    "#tf.reduce_sum(model(x_train[1: 2])).numpy() Check sum is 1"
   ]
  },
  {
   "cell_type": "markdown",
   "id": "fe6036ac-0633-4fac-9e47-ebe57b9f7773",
   "metadata": {},
   "source": [
    "## Loss and Optimizer"
   ]
  },
  {
   "cell_type": "code",
   "execution_count": 6,
   "id": "32377e4f-dcfc-49f0-bb0e-11c6ebb41baa",
   "metadata": {},
   "outputs": [],
   "source": [
    "# Define loss and optimizer\n",
    "def cross_entropy_loss(y_true, y_pred):\n",
    "    return -tf.reduce_mean(tf.reduce_sum(y_true * tf.math.log(y_pred + 1e-9), axis=1))\n",
    "\n",
    "#optimizer = tf.optimizers.Adam(learning_rate)\n",
    "learning_rate = 0.001\n",
    "optimizer = tf.optimizers.Adam(learning_rate)\n",
    "#optimizer = tf.optimizers.SGD(learning_rate)"
   ]
  },
  {
   "cell_type": "markdown",
   "id": "93da46a1-e988-4096-b516-edc8e0fc5b34",
   "metadata": {},
   "source": [
    "## Training"
   ]
  },
  {
   "cell_type": "code",
   "execution_count": 7,
   "id": "18aa3444-10cd-450f-93c1-ee8c602d87fa",
   "metadata": {},
   "outputs": [],
   "source": [
    "# Train the model\n",
    "num_epochs = 5\n",
    "batch_size = 32\n",
    "num_batches = int(np.ceil(x_train.shape[0] / batch_size))"
   ]
  },
  {
   "cell_type": "markdown",
   "id": "b75c8968-5468-451f-8837-b94d0dc23a13",
   "metadata": {},
   "source": [
    "### Single Layer"
   ]
  },
  {
   "cell_type": "code",
   "execution_count": 8,
   "id": "73593ea6-6790-446e-b1f9-50c1b2c6ecd0",
   "metadata": {},
   "outputs": [
    {
     "name": "stdout",
     "output_type": "stream",
     "text": [
      "Epoch 1, Loss: 0.13856856524944305\n",
      "Epoch 2, Loss: 0.11117905378341675\n",
      "Epoch 3, Loss: 0.10272729396820068\n",
      "Epoch 4, Loss: 0.09894952178001404\n",
      "Epoch 5, Loss: 0.09704163670539856\n"
     ]
    }
   ],
   "source": [
    "# Training loop\n",
    "for epoch in range(num_epochs):\n",
    "    for i in range(0, len(x_train), batch_size):\n",
    "        x_batch = x_train[i:i+batch_size]\n",
    "        y_batch = y_train[i:i+batch_size]\n",
    "\n",
    "        with tf.GradientTape() as tape:\n",
    "            y_pred = model1(x_batch)\n",
    "            loss = cross_entropy_loss(y_batch, y_pred)\n",
    "           \n",
    "        gradients = tape.gradient(loss, [model1.w, model1.b])\n",
    "        optimizer.apply_gradients(zip(gradients, [model1.w, model1.b]))\n",
    "\n",
    "    # Compute accuracy on the training set\n",
    "    print(f\"Epoch {epoch + 1}, Loss: {loss.numpy()}\")"
   ]
  },
  {
   "cell_type": "code",
   "execution_count": 9,
   "id": "b7ac84a3-c9e1-4ffd-9b9a-989d477604e8",
   "metadata": {},
   "outputs": [],
   "source": [
    "save_path = os.getcwd()\n",
    "\n",
    "# Create a dictionary of the model's weights and biases\n",
    "model1_weights = {\n",
    "    \"w\": model1.w.numpy(),\n",
    "    \"b\": model1.b.numpy()\n",
    "}\n",
    "\n",
    "# Save the model's weights and biases as a .npz file\n",
    "np.savez(save_path + \"model1_weights.npz\", **model1_weights)"
   ]
  },
  {
   "cell_type": "code",
   "execution_count": 11,
   "id": "986df629-dbc3-46e2-bbee-c542cad3d566",
   "metadata": {},
   "outputs": [],
   "source": [
    "load_path = os.getcwd()\n",
    "# Load the weights and biases from the .npz file\n",
    "loaded_weights = np.load(load_path + \"model1_weights.npz\")\n",
    "\n",
    "# Reassign the loaded weights and biases to your model\n",
    "model1.w = tf.Variable(loaded_weights[\"w\"])\n",
    "model1.b = tf.Variable(loaded_weights[\"b\"])"
   ]
  },
  {
   "cell_type": "markdown",
   "id": "4a0ee8aa-f485-4f84-913e-75b4a87b137d",
   "metadata": {},
   "source": [
    "### Two Layer"
   ]
  },
  {
   "cell_type": "code",
   "execution_count": 9,
   "id": "0d54b6e3-c443-47ed-a1c8-44c2ecdd4ec0",
   "metadata": {},
   "outputs": [
    {
     "name": "stdout",
     "output_type": "stream",
     "text": [
      "Epoch 1, Loss: 0.06319397687911987\n",
      "Epoch 2, Loss: 0.03785952925682068\n",
      "Epoch 3, Loss: 0.03313295543193817\n",
      "Epoch 4, Loss: 0.022019298747181892\n",
      "Epoch 5, Loss: 0.013361007906496525\n"
     ]
    }
   ],
   "source": [
    "# Training loop\n",
    "for epoch in range(num_epochs):\n",
    "    for i in range(0, len(x_train), batch_size):\n",
    "        x_batch = x_train[i:i+batch_size]\n",
    "        y_batch = y_train[i:i+batch_size]\n",
    "\n",
    "        with tf.GradientTape() as tape:\n",
    "            y_pred = model2(x_batch)\n",
    "            loss = cross_entropy_loss(y_batch, y_pred)\n",
    "           \n",
    "        gradients = tape.gradient(loss, [model2.w1, model2.b1, model2.w2, model2.b2])\n",
    "        optimizer.apply_gradients(zip(gradients, [model2.w1, model2.b1, model2.w2, model2.b2]))\n",
    "\n",
    "    # Compute accuracy on the training set\n",
    "    print(f\"Epoch {epoch + 1}, Loss: {loss.numpy()}\")\n"
   ]
  },
  {
   "cell_type": "code",
   "execution_count": 13,
   "id": "f7822bd4-177f-461a-a5ad-82359a3610e4",
   "metadata": {},
   "outputs": [],
   "source": [
    "save_path = os.getcwd()\n",
    "\n",
    "# Create a dictionary of the model's weights and biases\n",
    "model_weights = {\n",
    "    \"w1\": model2.w1.numpy(),\n",
    "    \"b1\": model2.b1.numpy(),\n",
    "    \"w2\": model2.w2.numpy(),\n",
    "    \"b2\": model2.b2.numpy()\n",
    "}\n",
    "\n",
    "# Save the model's weights and biases as a .npz file\n",
    "np.savez(save_path + \"model_weights.npz\", **model_weights)"
   ]
  },
  {
   "cell_type": "code",
   "execution_count": 5,
   "id": "0df25d1d-4200-424e-85b5-3961a5e14715",
   "metadata": {},
   "outputs": [],
   "source": [
    "load_path = os.getcwd()\n",
    "# Load the weights and biases from the .npz file\n",
    "loaded_weights = np.load(load_path + \"model_weights.npz\")\n",
    "\n",
    "# Reassign the loaded weights and biases to your model\n",
    "model2.w1 = tf.Variable(loaded_weights[\"w1\"])\n",
    "model2.b1 = tf.Variable(loaded_weights[\"b1\"])\n",
    "model2.w2 = tf.Variable(loaded_weights[\"w2\"])\n",
    "model2.b2 = tf.Variable(loaded_weights[\"b2\"])"
   ]
  },
  {
   "cell_type": "markdown",
   "id": "759e1e94-3f46-44b6-8218-5ed8e598cbfa",
   "metadata": {},
   "source": [
    "## Model Evaluation"
   ]
  },
  {
   "cell_type": "markdown",
   "id": "03b22194-0bfa-4197-9a8d-d840d2218759",
   "metadata": {},
   "source": [
    "### Single Layer"
   ]
  },
  {
   "cell_type": "code",
   "execution_count": 10,
   "id": "3c1fb3f3-02e1-47ba-8a84-290177f46eed",
   "metadata": {
    "scrolled": true
   },
   "outputs": [
    {
     "name": "stdout",
     "output_type": "stream",
     "text": [
      "Single Layer Accuracy: 0.9236000180244446\n",
      "Two Layer Accuracy: 0.9761999845504761\n"
     ]
    }
   ],
   "source": [
    "# Evaluate the model\n",
    "def accuracy(logits, labels):\n",
    "    predictions = tf.argmax(logits, axis=1)\n",
    "    correct_labels = tf.argmax(labels, axis=1)\n",
    "    accuracy = tf.reduce_mean(tf.cast(tf.equal(predictions, correct_labels), tf.float32))\n",
    "    return accuracy\n",
    "\n",
    "logits_test = model1(x_test)\n",
    "test_accuracy = accuracy(logits_test, y_test)\n",
    "print(f\"Single Layer Accuracy: {test_accuracy.numpy()}\")\n",
    "\n",
    "\n",
    "logits_test = model2(x_test)\n",
    "test_accuracy = accuracy(logits_test, y_test)\n",
    "print(f\"Two Layer Accuracy: {test_accuracy.numpy()}\")"
   ]
  }
 ],
 "metadata": {
  "kernelspec": {
   "display_name": "Python 3 (ipykernel)",
   "language": "python",
   "name": "python3"
  },
  "language_info": {
   "codemirror_mode": {
    "name": "ipython",
    "version": 3
   },
   "file_extension": ".py",
   "mimetype": "text/x-python",
   "name": "python",
   "nbconvert_exporter": "python",
   "pygments_lexer": "ipython3",
   "version": "3.10.13"
  }
 },
 "nbformat": 4,
 "nbformat_minor": 5
}
