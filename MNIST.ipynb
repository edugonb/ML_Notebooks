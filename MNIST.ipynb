{
 "cells": [
  {
   "cell_type": "markdown",
   "id": "80dc2afc-98cb-404d-bb04-21689111baa2",
   "metadata": {},
   "source": [
    "# MNIST Handwritten Digit Classification\n",
    "\n",
    "## Abstract\n",
    "\n",
    "In this notebook we play a bit with the MNIST dataset. The goal is to learn a simple example of classification of handwritten digits using various techniques and serve as an introduction to PyTorch. We compare the accuracy and the required training time for Neural Networks of different number of Hidden Units. We also compare a few different optimizers.\n",
    "\n",
    "\n",
    "---\n",
    "\n",
    "## Table of Contents\n",
    "\n",
    "1. **Install PyTorch**\n",
    "2. **Dataloader, Transform**\n",
    "4. **Modeling the NN**\n",
    "5. **Loss and Optimizer**\n",
    "6. **Training**\n",
    "7. **Model Evaluation**\n",
    "8. **Testing the accuracy**\n"
   ]
  },
  {
   "cell_type": "markdown",
   "id": "00109401-822f-4866-84b6-0dec6700096b",
   "metadata": {},
   "source": [
    "## Install Libraries"
   ]
  },
  {
   "cell_type": "code",
   "execution_count": 44,
   "id": "ee2f49b0-c4a8-4510-b88e-59735b625623",
   "metadata": {},
   "outputs": [],
   "source": [
    "#Libraries needed to load the data and to look at the images\n",
    "import torch\n",
    "import torchvision\n",
    "from torchvision import datasets, transforms\n",
    "import numpy as np\n",
    "import matplotlib.pyplot as plt\n",
    "\n",
    "# Additional libraries needed for the Neural Network\n",
    "import torch.nn as nn\n",
    "import torch.optim as optim\n",
    "from torchvision import datasets, transforms\n",
    "from torch.utils.data import DataLoader\n",
    "import time"
   ]
  },
  {
   "cell_type": "markdown",
   "id": "a2a5e8c0-0e3b-4286-8f18-8c966f492180",
   "metadata": {},
   "source": [
    "## Dataloader, Transform"
   ]
  },
  {
   "cell_type": "code",
   "execution_count": 23,
   "id": "9c4aeabc-b77f-4478-9e4b-a95be84ad9ec",
   "metadata": {},
   "outputs": [],
   "source": [
    "# Define the transform to apply to the images\n",
    "transform = transforms.Compose([\n",
    "    transforms.ToTensor(),\n",
    "    transforms.Normalize((0.5,), (0.5,))\n",
    "])\n",
    "# Load the MNIST dataset from the local directory\n",
    "data_dir = 'C:/Users/eduar/ML_codes/data'\n",
    "train_dataset = datasets.MNIST(root=data_dir, train=True, transform=transform, download=False)\n",
    "train_loader = DataLoader(train_dataset, batch_size=64, shuffle=True)"
   ]
  },
  {
   "cell_type": "code",
   "execution_count": 101,
   "id": "279165b9-7a34-4671-8bec-fa7c8b1582f1",
   "metadata": {},
   "outputs": [
    {
     "name": "stdout",
     "output_type": "stream",
     "text": [
      "torch.Size([64, 1, 28, 28]) torch.Size([64])\n"
     ]
    },
    {
     "data": {
      "image/png": "[encoded data removed]",
      "text/plain": [
       "<Figure size 640x480 with 1 Axes>"
      ]
     },
     "metadata": {},
     "output_type": "display_data"
    },
    {
     "name": "stdout",
     "output_type": "stream",
     "text": [
      "(-1.0, 1.0)\n",
      "tensor([[-1.0000, -1.0000, -1.0000, -1.0000, -1.0000, -1.0000, -1.0000, -1.0000,\n",
      "         -1.0000, -1.0000, -1.0000, -1.0000, -1.0000, -1.0000, -1.0000, -1.0000,\n",
      "         -1.0000, -1.0000, -1.0000, -1.0000, -1.0000, -1.0000, -1.0000, -1.0000,\n",
      "         -1.0000, -1.0000, -1.0000, -1.0000],\n",
      "        [-1.0000, -1.0000, -1.0000, -1.0000, -1.0000, -1.0000, -1.0000, -1.0000,\n",
      "         -1.0000, -1.0000, -1.0000, -1.0000, -1.0000, -1.0000, -1.0000, -1.0000,\n",
      "         -1.0000, -1.0000, -1.0000, -1.0000, -1.0000, -1.0000, -1.0000, -1.0000,\n",
      "         -1.0000, -1.0000, -1.0000, -1.0000],\n",
      "        [-1.0000, -1.0000, -1.0000, -1.0000, -1.0000, -1.0000, -1.0000, -1.0000,\n",
      "         -1.0000, -1.0000, -1.0000, -1.0000, -1.0000, -1.0000, -1.0000, -1.0000,\n",
      "         -1.0000, -1.0000, -1.0000, -1.0000, -1.0000, -1.0000, -1.0000, -1.0000,\n",
      "         -1.0000, -1.0000, -1.0000, -1.0000],\n",
      "        [-1.0000, -1.0000, -1.0000, -1.0000, -1.0000, -1.0000, -1.0000, -1.0000,\n",
      "         -1.0000, -1.0000, -1.0000, -1.0000, -1.0000, -1.0000, -1.0000, -1.0000,\n",
      "         -1.0000, -1.0000, -1.0000, -1.0000, -1.0000, -1.0000, -1.0000, -1.0000,\n",
      "         -1.0000, -1.0000, -1.0000, -1.0000],\n",
      "        [-1.0000, -1.0000, -1.0000, -1.0000, -1.0000, -1.0000, -1.0000, -1.0000,\n",
      "         -1.0000, -1.0000, -1.0000, -1.0000, -1.0000, -1.0000, -1.0000, -1.0000,\n",
      "         -1.0000, -1.0000, -1.0000, -1.0000, -1.0000, -1.0000, -1.0000, -1.0000,\n",
      "         -1.0000, -1.0000, -1.0000, -1.0000],\n",
      "        [-1.0000, -1.0000, -1.0000, -1.0000, -1.0000, -1.0000, -1.0000, -1.0000,\n",
      "         -1.0000, -1.0000, -1.0000, -1.0000, -1.0000, -1.0000, -1.0000, -1.0000,\n",
      "         -1.0000, -1.0000, -1.0000, -1.0000, -1.0000, -1.0000, -1.0000, -1.0000,\n",
      "         -1.0000, -1.0000, -1.0000, -1.0000],\n",
      "        [-1.0000, -1.0000, -1.0000, -1.0000, -1.0000, -1.0000, -1.0000, -1.0000,\n",
      "         -1.0000, -1.0000, -1.0000, -1.0000, -1.0000, -1.0000, -1.0000, -1.0000,\n",
      "         -1.0000, -1.0000, -1.0000, -1.0000, -1.0000, -1.0000, -1.0000, -1.0000,\n",
      "         -1.0000, -1.0000, -1.0000, -1.0000],\n",
      "        [-1.0000, -1.0000, -1.0000, -1.0000, -1.0000, -1.0000, -1.0000, -1.0000,\n",
      "         -1.0000, -1.0000, -1.0000, -1.0000, -1.0000, -1.0000, -0.9608, -0.4039,\n",
      "          0.3647,  0.8745,  0.8353,  0.3647, -0.7647, -1.0000, -1.0000, -1.0000,\n",
      "         -1.0000, -1.0000, -1.0000, -1.0000],\n",
      "        [-1.0000, -1.0000, -1.0000, -1.0000, -1.0000, -1.0000, -1.0000, -1.0000,\n",
      "         -1.0000, -1.0000, -1.0000, -0.9686, -0.4353,  0.2235,  0.6471,  0.9922,\n",
      "          0.9843,  0.9843,  0.9843,  0.9843, -0.0980, -1.0000, -1.0000, -1.0000,\n",
      "         -1.0000, -1.0000, -1.0000, -1.0000],\n",
      "        [-1.0000, -1.0000, -1.0000, -1.0000, -1.0000, -1.0000, -1.0000, -1.0000,\n",
      "         -1.0000, -1.0000, -0.8196,  0.3098,  0.9843,  0.9843,  0.6314,  0.1843,\n",
      "         -0.2784, -0.6314, -0.2627,  0.9451,  0.1216, -1.0000, -1.0000, -1.0000,\n",
      "         -1.0000, -1.0000, -1.0000, -1.0000],\n",
      "        [-1.0000, -1.0000, -1.0000, -1.0000, -1.0000, -1.0000, -1.0000, -1.0000,\n",
      "         -1.0000, -1.0000,  0.4824,  0.9843,  0.7725, -0.4824, -0.9843, -0.4588,\n",
      "          0.1137, -0.2627,  0.6078,  0.9843,  0.7804, -0.5608, -1.0000, -1.0000,\n",
      "         -1.0000, -1.0000, -1.0000, -1.0000],\n",
      "        [-1.0000, -1.0000, -1.0000, -1.0000, -1.0000, -1.0000, -1.0000, -1.0000,\n",
      "         -1.0000, -0.6078,  0.9529,  0.7490, -0.5843,  0.1294,  0.8667,  0.9922,\n",
      "          0.9843,  0.9843,  0.9843,  0.9843,  0.9529, -0.6235, -1.0000, -1.0000,\n",
      "         -1.0000, -1.0000, -1.0000, -1.0000],\n",
      "        [-1.0000, -1.0000, -1.0000, -1.0000, -1.0000, -1.0000, -1.0000, -1.0000,\n",
      "         -1.0000, -0.6078,  0.9608,  0.9922,  0.9922,  0.9922,  0.9922,  1.0000,\n",
      "          0.9373,  0.4980,  0.9922,  0.9922, -0.3333, -1.0000, -1.0000, -1.0000,\n",
      "         -1.0000, -1.0000, -1.0000, -1.0000],\n",
      "        [-1.0000, -1.0000, -1.0000, -1.0000, -1.0000, -1.0000, -1.0000, -1.0000,\n",
      "         -1.0000, -1.0000, -0.1843,  0.7647,  0.8588,  0.5765,  0.1137, -0.5059,\n",
      "         -0.6078,  0.1608,  0.9843,  0.6314, -0.6863, -1.0000, -1.0000, -1.0000,\n",
      "         -1.0000, -1.0000, -1.0000, -1.0000],\n",
      "        [-1.0000, -1.0000, -1.0000, -1.0000, -1.0000, -1.0000, -1.0000, -1.0000,\n",
      "         -1.0000, -1.0000, -1.0000, -0.9529, -0.8118, -1.0000, -1.0000, -0.8588,\n",
      "          0.4667,  0.9843,  0.9843, -0.3725, -1.0000, -1.0000, -1.0000, -1.0000,\n",
      "         -1.0000, -1.0000, -1.0000, -1.0000],\n",
      "        [-1.0000, -1.0000, -1.0000, -1.0000, -1.0000, -1.0000, -1.0000, -1.0000,\n",
      "         -1.0000, -1.0000, -1.0000, -1.0000, -1.0000, -1.0000, -1.0000, -0.0902,\n",
      "          0.9843,  0.9843, -0.1529, -0.9843, -1.0000, -1.0000, -1.0000, -1.0000,\n",
      "         -1.0000, -1.0000, -1.0000, -1.0000],\n",
      "        [-1.0000, -1.0000, -1.0000, -1.0000, -1.0000, -1.0000, -1.0000, -1.0000,\n",
      "         -1.0000, -1.0000, -1.0000, -1.0000, -1.0000, -1.0000, -0.8039,  0.7569,\n",
      "          0.9843,  0.0431, -0.9843, -1.0000, -1.0000, -1.0000, -1.0000, -1.0000,\n",
      "         -1.0000, -1.0000, -1.0000, -1.0000],\n",
      "        [-1.0000, -1.0000, -1.0000, -1.0000, -1.0000, -1.0000, -1.0000, -1.0000,\n",
      "         -1.0000, -1.0000, -1.0000, -1.0000, -1.0000, -0.9686,  0.0980,  1.0000,\n",
      "          0.5843, -0.8824, -1.0000, -1.0000, -1.0000, -1.0000, -1.0000, -1.0000,\n",
      "         -1.0000, -1.0000, -1.0000, -1.0000],\n",
      "        [-1.0000, -1.0000, -1.0000, -1.0000, -1.0000, -1.0000, -1.0000, -1.0000,\n",
      "         -1.0000, -1.0000, -1.0000, -1.0000, -1.0000, -0.1451,  0.9843,  0.8980,\n",
      "         -0.4118, -1.0000, -1.0000, -1.0000, -1.0000, -1.0000, -1.0000, -1.0000,\n",
      "         -1.0000, -1.0000, -1.0000, -1.0000],\n",
      "        [-1.0000, -1.0000, -1.0000, -1.0000, -1.0000, -1.0000, -1.0000, -1.0000,\n",
      "         -1.0000, -1.0000, -1.0000, -1.0000, -0.6941,  0.8588,  0.9843,  0.0039,\n",
      "         -1.0000, -1.0000, -1.0000, -1.0000, -1.0000, -1.0000, -1.0000, -1.0000,\n",
      "         -1.0000, -1.0000, -1.0000, -1.0000],\n",
      "        [-1.0000, -1.0000, -1.0000, -1.0000, -1.0000, -1.0000, -1.0000, -1.0000,\n",
      "         -1.0000, -1.0000, -1.0000, -0.9216,  0.6549,  0.9843,  0.4353, -1.0000,\n",
      "         -1.0000, -1.0000, -1.0000, -1.0000, -1.0000, -1.0000, -1.0000, -1.0000,\n",
      "         -1.0000, -1.0000, -1.0000, -1.0000],\n",
      "        [-1.0000, -1.0000, -1.0000, -1.0000, -1.0000, -1.0000, -1.0000, -1.0000,\n",
      "         -1.0000, -1.0000, -1.0000,  0.0118,  0.9608,  0.6706, -0.8745, -1.0000,\n",
      "         -1.0000, -1.0000, -1.0000, -1.0000, -1.0000, -1.0000, -1.0000, -1.0000,\n",
      "         -1.0000, -1.0000, -1.0000, -1.0000],\n",
      "        [-1.0000, -1.0000, -1.0000, -1.0000, -1.0000, -1.0000, -1.0000, -1.0000,\n",
      "         -1.0000, -1.0000, -0.7176,  0.8353,  0.9922, -0.1294, -1.0000, -1.0000,\n",
      "         -1.0000, -1.0000, -1.0000, -1.0000, -1.0000, -1.0000, -1.0000, -1.0000,\n",
      "         -1.0000, -1.0000, -1.0000, -1.0000],\n",
      "        [-1.0000, -1.0000, -1.0000, -1.0000, -1.0000, -1.0000, -1.0000, -1.0000,\n",
      "         -1.0000, -1.0000,  0.5294,  0.9843,  0.7020, -0.7804, -1.0000, -1.0000,\n",
      "         -1.0000, -1.0000, -1.0000, -1.0000, -1.0000, -1.0000, -1.0000, -1.0000,\n",
      "         -1.0000, -1.0000, -1.0000, -1.0000],\n",
      "        [-1.0000, -1.0000, -1.0000, -1.0000, -1.0000, -1.0000, -1.0000, -1.0000,\n",
      "         -1.0000, -0.2549,  0.9922,  0.9843,  0.4902, -0.9216, -1.0000, -1.0000,\n",
      "         -1.0000, -1.0000, -1.0000, -1.0000, -1.0000, -1.0000, -1.0000, -1.0000,\n",
      "         -1.0000, -1.0000, -1.0000, -1.0000],\n",
      "        [-1.0000, -1.0000, -1.0000, -1.0000, -1.0000, -1.0000, -1.0000, -1.0000,\n",
      "         -0.7176,  0.9294,  0.9608,  0.1373, -0.9529, -1.0000, -1.0000, -1.0000,\n",
      "         -1.0000, -1.0000, -1.0000, -1.0000, -1.0000, -1.0000, -1.0000, -1.0000,\n",
      "         -1.0000, -1.0000, -1.0000, -1.0000],\n",
      "        [-1.0000, -1.0000, -1.0000, -1.0000, -1.0000, -1.0000, -1.0000, -1.0000,\n",
      "         -0.3020,  0.9843,  0.0824, -1.0000, -1.0000, -1.0000, -1.0000, -1.0000,\n",
      "         -1.0000, -1.0000, -1.0000, -1.0000, -1.0000, -1.0000, -1.0000, -1.0000,\n",
      "         -1.0000, -1.0000, -1.0000, -1.0000],\n",
      "        [-1.0000, -1.0000, -1.0000, -1.0000, -1.0000, -1.0000, -1.0000, -1.0000,\n",
      "         -1.0000, -1.0000, -1.0000, -1.0000, -1.0000, -1.0000, -1.0000, -1.0000,\n",
      "         -1.0000, -1.0000, -1.0000, -1.0000, -1.0000, -1.0000, -1.0000, -1.0000,\n",
      "         -1.0000, -1.0000, -1.0000, -1.0000]])\n"
     ]
    }
   ],
   "source": [
    "# look at one random sample\n",
    "dataiter = iter(train_loader)\n",
    "data = next(dataiter)\n",
    "inputs, targets = data\n",
    "print(inputs.shape, targets.shape)\n",
    "# inputs.shape = (batch_size, channels, height, width)\n",
    "inputs[1].shape\n",
    "#Let us plot some random image\n",
    "chose_pic = inputs[0].squeeze()  # Remove the channel dimension to get a 2D array\n",
    "plt.imshow(chose_pic.numpy(), cmap='gray')  # Convert to numpy array and display as grayscale\n",
    "# Comment: plt.imshow automatically scales the data to fit the [0, 1] range for grayscale images if you don’t specify vmin and vmax.\n",
    "plt.title('Second Image in Batch')\n",
    "plt.show()\n",
    "min_value = chose_pic.min()\n",
    "max_value = chose_pic.max()\n",
    "print(f\"({min_value.item()}, {max_value.item()})\")\n",
    "print(chose_pic)"
   ]
  },
  {
   "cell_type": "markdown",
   "id": "82bcd769-9ee5-47ec-8251-893a012f00e0",
   "metadata": {},
   "source": [
    "### Batch Size:\n",
    "This is the number of images in a single batch. In your case, it is 64 because you set batch_size=64 when creating the DataLoader. This dimension helps in processing multiple images simultaneously during training.\n",
    "### Channels:\n",
    "For MNIST, the images are grayscale, so there is only one channel. Therefore, this dimension is 1. If you were working with RGB images, this would be 3 (one for each color channel: Red, Green, Blue).\n",
    "### Height:\n",
    "For MNIST, each image is 28 pixels tall.\n",
    "### Width:\n",
    "For MNIST, each image is 28 pixels wide."
   ]
  },
  {
   "cell_type": "code",
   "execution_count": 62,
   "id": "e65a524b-98f6-40d3-a260-3128b26b67b1",
   "metadata": {},
   "outputs": [
    {
     "name": "stdout",
     "output_type": "stream",
     "text": [
      "<class 'torch.utils.data.dataloader.DataLoader'>\n"
     ]
    }
   ],
   "source": [
    "print(type(train_loader))"
   ]
  },
  {
   "cell_type": "code",
   "execution_count": 19,
   "id": "2de0cd57-3f86-4a34-8384-9f213436a1ed",
   "metadata": {},
   "outputs": [
    {
     "name": "stdout",
     "output_type": "stream",
     "text": [
      "Labels:  [7 1 1 6 1 0 7]\n"
     ]
    },
    {
     "data": {
      "image/png": "[encoded data removed]",
      "text/plain": [
       "<Figure size 640x480 with 1 Axes>"
      ]
     },
     "metadata": {},
     "output_type": "display_data"
    }
   ],
   "source": [
    "# Define a function to display images\n",
    "def imshow(img):\n",
    "    img = img / 2 + 0.5     # unnormalize\n",
    "    npimg = img.numpy()    # convert to numpy array\n",
    "    plt.imshow(np.transpose(npimg, (1, 2, 0)), cmap='gray')  # plot image\n",
    "    plt.axis('off')        # Hide axis\n",
    "    plt.show()\n",
    "\n",
    "# Function to show a few sample images from the dataset\n",
    "def show_sample_images(dataset, num_samples=7):\n",
    "    data_loader = torch.utils.data.DataLoader(dataset, batch_size=num_samples, shuffle=True)\n",
    "    images, labels = next(iter(data_loader))\n",
    "    \n",
    "    print(\"Labels: \", labels.numpy())\n",
    "    \n",
    "    # Create a grid of images\n",
    "    img_grid = torchvision.utils.make_grid(images)\n",
    "    imshow(img_grid)\n",
    "\n",
    "# Show some sample images from the MNIST dataset\n",
    "show_sample_images(train_dataset)"
   ]
  },
  {
   "cell_type": "code",
   "execution_count": null,
   "id": "30443322-0663-4121-ac41-2d7b49200323",
   "metadata": {},
   "outputs": [],
   "source": [
    "# Hyperparameters\n",
    "input_size = 784  # 28x28 images\n",
    "hidden_size = 128\n",
    "output_size = 10   # 10 classes for digits 0-9\n",
    "learning_rate = 0.001\n",
    "batch_size = 64\n",
    "num_epochs = 5"
   ]
  },
  {
   "cell_type": "markdown",
   "id": "ac4702a9-0c6a-4312-8446-cbba7e7d3afc",
   "metadata": {},
   "source": [
    "## Modeling the NN"
   ]
  },
  {
   "cell_type": "code",
   "execution_count": 60,
   "id": "2bcc0cc2-62ff-47a3-bc18-392dbdbb4857",
   "metadata": {},
   "outputs": [],
   "source": [
    "class One_NN(nn.Module):\n",
    "    def __init__(self):\n",
    "        super(One_NN, self).__init__()\n",
    "        self.hidden_layer = nn.Linear(28*28, 128)\n",
    "        self.relu = nn.ReLU()\n",
    "        self.output_layer = nn.Linear(128, 10)\n",
    "    \n",
    "    def forward(self, x):\n",
    "        x = x.view(-1, 28*28)  # Flatten the input\n",
    "        x = self.hidden_layer(x)\n",
    "        x = self.relu(x)\n",
    "        x = self.output_layer(x)\n",
    "        return x"
   ]
  },
  {
   "cell_type": "code",
   "execution_count": 55,
   "id": "135e4c6d-46c8-47a5-aa8f-4e38bde1cf28",
   "metadata": {},
   "outputs": [],
   "source": [
    "# Define the feed-forward neural network model\n",
    "class Two_NN(nn.Module):\n",
    "    def __init__(self):\n",
    "        super(Two_NN, self).__init__()\n",
    "        self.fc1 = nn.Linear(28*28, 128)  # Input layer to hidden layer\n",
    "        self.fc2 = nn.Linear(128, 64)     # Hidden layer to hidden layer\n",
    "        self.fc3 = nn.Linear(64, 10)      # Hidden layer to output layer\n",
    "\n",
    "    def forward(self, x):\n",
    "        x = x.view(-1, 28*28)  # Flatten the input\n",
    "        x = torch.relu(self.fc1(x))  # Apply ReLU activation\n",
    "        x = torch.relu(self.fc2(x))  # Apply ReLU activation\n",
    "        x = self.fc3(x)  # Output layer\n",
    "        return x"
   ]
  },
  {
   "cell_type": "code",
   "execution_count": 39,
   "id": "ef7278d3-0dad-4d22-abee-a79959d487b4",
   "metadata": {},
   "outputs": [],
   "source": []
  },
  {
   "cell_type": "markdown",
   "id": "5b97c5b2-dfe5-4fac-9e93-ce3a80780bef",
   "metadata": {},
   "source": [
    "## Loss and Optimizer"
   ]
  },
  {
   "cell_type": "code",
   "execution_count": 57,
   "id": "f85f2ad5-79a1-4fa2-b27a-c5af2f3789e8",
   "metadata": {},
   "outputs": [],
   "source": [
    "# Set up the device, model, loss function, and optimizer\n",
    "device = torch.device(\"cuda\" if torch.cuda.is_available() else \"cpu\")\n",
    "model_one = One_NN().to(device)\n",
    "model_two = Two_NN().to(device)\n",
    "criterion = nn.CrossEntropyLoss()\n",
    "optimizer_one = optim.Adam(model_one.parameters(), lr=0.001)\n",
    "optimizer_two = optim.Adam(model_two.parameters(), lr=0.001)"
   ]
  },
  {
   "cell_type": "markdown",
   "id": "a0514b84-33bc-4026-a9f6-133fce67cd25",
   "metadata": {},
   "source": [
    "## Training"
   ]
  },
  {
   "cell_type": "markdown",
   "id": "150475c3-a0c5-4448-95c4-ec68f4078ce0",
   "metadata": {},
   "source": [
    "### One Hidden Unit"
   ]
  },
  {
   "cell_type": "code",
   "execution_count": 61,
   "id": "9d040b53-e0b5-4390-a622-5e3c8d2f80dc",
   "metadata": {},
   "outputs": [
    {
     "name": "stdout",
     "output_type": "stream",
     "text": [
      "Epoch [1/5], Loss: 0.0843, Time: 11.39 seconds\n",
      "Epoch [2/5], Loss: 0.0749, Time: 11.14 seconds\n",
      "Epoch [3/5], Loss: 0.0672, Time: 10.80 seconds\n",
      "Epoch [4/5], Loss: 0.0635, Time: 11.55 seconds\n",
      "Epoch [5/5], Loss: 0.0567, Time: 11.37 seconds\n"
     ]
    }
   ],
   "source": [
    "# Training loop\n",
    "num_epochs = 5\n",
    "for epoch in range(num_epochs):\n",
    "    start_time = time.time()  # Record the start time of the epoch\n",
    "    model_one.train()\n",
    "    running_loss = 0.0\n",
    "    for images, labels in train_loader:\n",
    "        images, labels = images.to(device), labels.to(device)\n",
    "        \n",
    "        # Forward pass\n",
    "        outputs = model_one(images)\n",
    "        loss = criterion(outputs, labels)\n",
    "        \n",
    "        # Backward pass and optimization\n",
    "        optimizer_one.zero_grad()\n",
    "        loss.backward()\n",
    "        optimizer_one.step()\n",
    "        \n",
    "        running_loss += loss.item()\n",
    "    \n",
    "    end_time = time.time()  # Record the end time of the epoch\n",
    "    epoch_duration = end_time - start_time  # Calculate the duration of the epoch\n",
    "    \n",
    "    print(f'Epoch [{epoch+1}/{num_epochs}], Loss: {running_loss/len(train_loader):.4f}, Time: {epoch_duration:.2f} seconds')"
   ]
  },
  {
   "cell_type": "markdown",
   "id": "0b646ce9-bf36-438a-87a1-3e84730ddbe1",
   "metadata": {},
   "source": [
    "### Two Hidden Units"
   ]
  },
  {
   "cell_type": "code",
   "execution_count": 59,
   "id": "0d093227-4a2e-488b-bfc5-24c206d4473d",
   "metadata": {},
   "outputs": [
    {
     "name": "stdout",
     "output_type": "stream",
     "text": [
      "Epoch [1/5], Loss: 0.3811, Time: 11.12 seconds\n",
      "Epoch [2/5], Loss: 0.1857, Time: 11.30 seconds\n",
      "Epoch [3/5], Loss: 0.1309, Time: 11.73 seconds\n",
      "Epoch [4/5], Loss: 0.1064, Time: 11.66 seconds\n",
      "Epoch [5/5], Loss: 0.0905, Time: 11.67 seconds\n"
     ]
    }
   ],
   "source": [
    "# Training loop\n",
    "num_epochs = 5\n",
    "for epoch in range(num_epochs):\n",
    "    start_time = time.time()  # Record the start time of the epoch\n",
    "    model_two.train()\n",
    "    running_loss = 0.0\n",
    "    for images, labels in train_loader:\n",
    "        images, labels = images.to(device), labels.to(device)\n",
    "        \n",
    "        # Forward pass\n",
    "        outputs = model_two(images)\n",
    "        loss = criterion(outputs, labels)\n",
    "        \n",
    "        # Backward pass and optimization\n",
    "        optimizer_two.zero_grad()\n",
    "        loss.backward()\n",
    "        optimizer_two.step()\n",
    "        \n",
    "        running_loss += loss.item()\n",
    "    \n",
    "    end_time = time.time()  # Record the end time of the epoch\n",
    "    epoch_duration = end_time - start_time  # Calculate the duration of the epoch\n",
    "    \n",
    "    print(f'Epoch [{epoch+1}/{num_epochs}], Loss: {running_loss/len(train_loader):.4f}, Time: {epoch_duration:.2f} seconds')"
   ]
  },
  {
   "cell_type": "markdown",
   "id": "9bc5a585-fab9-4789-a862-9bc7cf558d87",
   "metadata": {},
   "source": [
    "**Results Summary**\n",
    "\n",
    "<div style=\"border: 2px solid orange; padding: 10px; border-radius: 0px; display: inline-block; background-color: #fff5e6;\">\n",
    "    <strong> The NN with 2 layers is a bit more accurate and takes a bit more time, as expected!</strong>\n",
    "</div>"
   ]
  },
  {
   "cell_type": "markdown",
   "id": "ba979f8a-3b27-47a7-b9ea-290c741143ca",
   "metadata": {},
   "source": [
    "## Model Evaluation"
   ]
  },
  {
   "cell_type": "code",
   "execution_count": 42,
   "id": "6d7e2ccb-8201-4ec3-8f0e-72678a682c18",
   "metadata": {},
   "outputs": [
    {
     "data": {
      "image/png": "[encoded data removed]",
      "text/plain": [
       "<Figure size 640x480 with 1 Axes>"
      ]
     },
     "metadata": {},
     "output_type": "display_data"
    }
   ],
   "source": [
    "# Get a batch of 5 images from the test dataset\n",
    "data_iter = iter(test_loader)\n",
    "images, labels = next(data_iter)\n",
    "\n",
    "# Get predictions for these 5 images\n",
    "model.eval()  # Set the model to evaluation mode\n",
    "with torch.no_grad():\n",
    "    outputs = model(images[:5])\n",
    "    _, predictions = torch.max(outputs, 1)\n",
    "\n",
    "# Function to display an image and its predicted and actual label\n",
    "def show_example(data, prediction, label):\n",
    "    plt.imshow(data.squeeze(), cmap='gray')\n",
    "    plt.title(f'Predicted: {prediction}, Actual: {label}')\n",
    "    plt.axis('off')\n",
    "    plt.show()\n",
    "    \n",
    "# Display the images with their predicted and actual labels\n",
    "for i in range(1):\n",
    "    show_example(images[i], predictions[i].item(), labels[i].item())"
   ]
  },
  {
   "cell_type": "markdown",
   "id": "a15389d4-d4e2-4e2d-b4b8-6ddaeda9e539",
   "metadata": {},
   "source": [
    "## Testing Accuracy"
   ]
  },
  {
   "cell_type": "code",
   "execution_count": 43,
   "id": "f1c353e6-e058-4776-976c-d8ce7780dbc8",
   "metadata": {},
   "outputs": [
    {
     "name": "stdout",
     "output_type": "stream",
     "text": [
      "Accuracy of the model on the 10,000 test images: 96.57%\n"
     ]
    }
   ],
   "source": [
    "# Load the test dataset\n",
    "test_dataset = datasets.MNIST(root='./data', train=False, transform=transform, download=True)\n",
    "test_loader = DataLoader(dataset=test_dataset, batch_size=64, shuffle=False)\n",
    "\n",
    "# Set the model to evaluation mode\n",
    "model.eval()\n",
    "\n",
    "# Initialize variables to track performance\n",
    "correct = 0\n",
    "total = 0\n",
    "\n",
    "# Disable gradient calculation for testing\n",
    "with torch.no_grad():\n",
    "    for data, targets in test_loader:\n",
    "        # Forward pass: compute predicted outputs by passing inputs to the model\n",
    "        outputs = model(data)\n",
    "        \n",
    "        # Get the predicted class (highest value in the output tensor)\n",
    "        _, predicted = torch.max(outputs.data, 1)\n",
    "        \n",
    "        # Update the total number of correct predictions and total samples\n",
    "        total += targets.size(0)\n",
    "        correct += (predicted == targets).sum().item()\n",
    "\n",
    "# Calculate and print the accuracy\n",
    "accuracy = 100 * correct / total\n",
    "print(f'Accuracy of the model on the 10,000 test images: {accuracy:.2f}%')\n"
   ]
  },
  {
   "cell_type": "code",
   "execution_count": null,
   "id": "b1ff784e-aa4a-48fb-8b53-db24628e87e0",
   "metadata": {},
   "outputs": [],
   "source": []
  }
 ],
 "metadata": {
  "kernelspec": {
   "display_name": "Python 3 (ipykernel)",
   "language": "python",
   "name": "python3"
  },
  "language_info": {
   "codemirror_mode": {
    "name": "ipython",
    "version": 3
   },
   "file_extension": ".py",
   "mimetype": "text/x-python",
   "name": "python",
   "nbconvert_exporter": "python",
   "pygments_lexer": "ipython3",
   "version": "3.12.4"
  }
 },
 "nbformat": 4,
 "nbformat_minor": 5
}
