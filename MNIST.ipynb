{
 "cells": [
  {
   "cell_type": "code",
   "execution_count": 14,
   "id": "7f5570d1-8642-4c6c-9c63-eae828b86b85",
   "metadata": {},
   "outputs": [],
   "source": [
    "#Libraries needed to load the data and to look at the images\n",
    "import torch\n",
    "import torchvision\n",
    "from torchvision import datasets, transforms\n",
    "import numpy as np\n",
    "import matplotlib.pyplot as plt\n",
    "# Additional libraries needed for \n",
    "\n",
    "import torch.nn as nn\n",
    "import torch.optim as optim\n",
    "from torchvision import datasets, transforms\n",
    "from torch.utils.data import DataLoader"
   ]
  },
  {
   "cell_type": "code",
   "execution_count": 17,
   "id": "9c4aeabc-b77f-4478-9e4b-a95be84ad9ec",
   "metadata": {},
   "outputs": [],
   "source": [
    "# Define the transform to apply to the images\n",
    "transform = transforms.Compose([\n",
    "    transforms.ToTensor(),\n",
    "    transforms.Normalize((0.5,), (0.5,))\n",
    "])\n",
    "# Load the MNIST dataset from the local directory\n",
    "data_dir = '/Users/eduardogonzalo/Desktop/Z_Python_codes/data'\n",
    "train_dataset = datasets.MNIST(root=data_dir, train=True, transform=transform, download=False)\n"
   ]
  },
  {
   "cell_type": "code",
   "execution_count": 16,
   "id": "2de0cd57-3f86-4a34-8384-9f213436a1ed",
   "metadata": {},
   "outputs": [
    {
     "name": "stdout",
     "output_type": "stream",
     "text": [
      "Labels:  [7 5 9 9 9]\n"
     ]
    },
    {
     "data": {
      "image/png": "[encoded data removed]",
      "text/plain": [
       "<Figure size 640x480 with 1 Axes>"
      ]
     },
     "metadata": {},
     "output_type": "display_data"
    }
   ],
   "source": [
    "# Define a function to display images\n",
    "def imshow(img):\n",
    "    img = img / 2 + 0.5     # unnormalize\n",
    "    npimg = img.numpy()    # convert to numpy array\n",
    "    plt.imshow(np.transpose(npimg, (1, 2, 0)), cmap='gray')  # plot image\n",
    "    plt.axis('off')        # Hide axis\n",
    "    plt.show()\n",
    "\n",
    "# Function to show a few sample images from the dataset\n",
    "def show_sample_images(dataset, num_samples=5):\n",
    "    data_loader = torch.utils.data.DataLoader(dataset, batch_size=num_samples, shuffle=True)\n",
    "    images, labels = next(iter(data_loader))\n",
    "    \n",
    "    print(\"Labels: \", labels.numpy())\n",
    "    \n",
    "    # Create a grid of images\n",
    "    img_grid = torchvision.utils.make_grid(images)\n",
    "    imshow(img_grid)\n",
    "\n",
    "# Show some sample images from the MNIST dataset\n",
    "show_sample_images(train_dataset)"
   ]
  },
  {
   "cell_type": "code",
   "execution_count": null,
   "id": "2bcc0cc2-62ff-47a3-bc18-392dbdbb4857",
   "metadata": {},
   "outputs": [],
   "source": []
  },
  {
   "cell_type": "code",
   "execution_count": null,
   "id": "f85f2ad5-79a1-4fa2-b27a-c5af2f3789e8",
   "metadata": {},
   "outputs": [],
   "source": []
  }
 ],
 "metadata": {
  "kernelspec": {
   "display_name": "Python 3 (ipykernel)",
   "language": "python",
   "name": "python3"
  },
  "language_info": {
   "codemirror_mode": {
    "name": "ipython",
    "version": 3
   },
   "file_extension": ".py",
   "mimetype": "text/x-python",
   "name": "python",
   "nbconvert_exporter": "python",
   "pygments_lexer": "ipython3",
   "version": "3.12.4"
  }
 },
 "nbformat": 4,
 "nbformat_minor": 5
}
